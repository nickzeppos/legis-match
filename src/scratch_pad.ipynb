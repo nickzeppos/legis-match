{
 "cells": [
  {
   "cell_type": "code",
   "execution_count": null,
   "metadata": {},
   "outputs": [
    {
     "name": "stdout",
     "output_type": "stream",
     "text": [
      "/home/nickzep/projects/legis-match/src\n"
     ]
    }
   ],
   "source": [
    "# Imports\n",
    "from processing import parse_fn as Parse\n",
    "from processing import compare_fn as Compare\n",
    "from processing import legis_parse as LegisParse\n",
    "import utils as Utils\n",
    "import encode as Encode\n",
    "import importlib\n",
    "import os\n",
    "importlib.reload(Compare)\n",
    "importlib.reload(LegisParse)\n",
    "importlib.reload(Parse)\n",
    "importlib.reload(Utils)\n",
    "importlib.reload(Encode)\n",
    "\n",
    "\n",
    "print(os.getcwd())"
   ]
  },
  {
   "cell_type": "code",
   "execution_count": 4,
   "metadata": {},
   "outputs": [
    {
     "ename": "FileNotFoundError",
     "evalue": "[Errno 2] No such file or directory: 'data/118hr6181ih.xml'",
     "output_type": "error",
     "traceback": [
      "\u001b[0;31m---------------------------------------------------------------------------\u001b[0m",
      "\u001b[0;31mFileNotFoundError\u001b[0m                         Traceback (most recent call last)",
      "Cell \u001b[0;32mIn[4], line 1\u001b[0m\n\u001b[0;32m----> 1\u001b[0m xml_118_hr_6181_ih \u001b[38;5;241m=\u001b[39m \u001b[43mUtils\u001b[49m\u001b[38;5;241;43m.\u001b[39;49m\u001b[43mget_core_bill_xml\u001b[49m\u001b[43m(\u001b[49m\u001b[38;5;241;43m118\u001b[39;49m\u001b[43m,\u001b[49m\u001b[43m \u001b[49m\u001b[38;5;241;43m6181\u001b[39;49m\u001b[43m,\u001b[49m\u001b[43m \u001b[49m\u001b[38;5;124;43m'\u001b[39;49m\u001b[38;5;124;43mhr\u001b[39;49m\u001b[38;5;124;43m'\u001b[39;49m\u001b[43m,\u001b[49m\u001b[43m \u001b[49m\u001b[38;5;124;43m'\u001b[39;49m\u001b[38;5;124;43mih\u001b[39;49m\u001b[38;5;124;43m'\u001b[39;49m\u001b[43m)\u001b[49m\n\u001b[1;32m      2\u001b[0m sections_118_hr_6181_ih \u001b[38;5;241m=\u001b[39m Parse\u001b[38;5;241m.\u001b[39mget_all_sections(xml_118_hr_6181_ih)\n\u001b[1;32m      3\u001b[0m parsed_sections_118_hr_6181_ih \u001b[38;5;241m=\u001b[39m {}\n",
      "File \u001b[0;32m~/projects/legis-match/src/utils.py:31\u001b[0m, in \u001b[0;36mget_core_bill_xml\u001b[0;34m(congress_number, bill_number, bill_type, bill_version)\u001b[0m\n\u001b[1;32m     29\u001b[0m \u001b[38;5;28;01mdef\u001b[39;00m\u001b[38;5;250m \u001b[39m\u001b[38;5;21mget_core_bill_xml\u001b[39m(congress_number: \u001b[38;5;28mint\u001b[39m, bill_number: \u001b[38;5;28mint\u001b[39m, bill_type: \u001b[38;5;28mstr\u001b[39m, bill_version: \u001b[38;5;28mstr\u001b[39m):\n\u001b[1;32m     30\u001b[0m     parser \u001b[38;5;241m=\u001b[39m et\u001b[38;5;241m.\u001b[39mXMLParser()\n\u001b[0;32m---> 31\u001b[0m     xml \u001b[38;5;241m=\u001b[39m \u001b[43mget_bill_xml\u001b[49m\u001b[43m(\u001b[49m\u001b[43mcongress_number\u001b[49m\u001b[43m,\u001b[49m\u001b[43m \u001b[49m\u001b[43mbill_number\u001b[49m\u001b[43m,\u001b[49m\n\u001b[1;32m     32\u001b[0m \u001b[43m                       \u001b[49m\u001b[43mbill_type\u001b[49m\u001b[43m,\u001b[49m\u001b[43m \u001b[49m\u001b[43mbill_version\u001b[49m\u001b[43m)\u001b[49m\n\u001b[1;32m     33\u001b[0m     parsed \u001b[38;5;241m=\u001b[39m et\u001b[38;5;241m.\u001b[39mElementTree(et\u001b[38;5;241m.\u001b[39mfromstring(xml, parser))\n\u001b[1;32m     34\u001b[0m     \u001b[38;5;28;01mreturn\u001b[39;00m parsed\u001b[38;5;241m.\u001b[39mfind(\u001b[38;5;124m'\u001b[39m\u001b[38;5;124m.//legis-body\u001b[39m\u001b[38;5;124m'\u001b[39m)\n",
      "File \u001b[0;32m~/projects/legis-match/src/utils.py:25\u001b[0m, in \u001b[0;36mget_bill_xml\u001b[0;34m(congress_number, bill_number, bill_type, bill_version)\u001b[0m\n\u001b[1;32m     23\u001b[0m \u001b[38;5;28;01mdef\u001b[39;00m\u001b[38;5;250m \u001b[39m\u001b[38;5;21mget_bill_xml\u001b[39m(congress_number: \u001b[38;5;28mint\u001b[39m, bill_number: \u001b[38;5;28mint\u001b[39m, bill_type: \u001b[38;5;28mstr\u001b[39m, bill_version: \u001b[38;5;28mstr\u001b[39m):\n\u001b[1;32m     24\u001b[0m     file_path \u001b[38;5;241m=\u001b[39m \u001b[38;5;124mf\u001b[39m\u001b[38;5;124m'\u001b[39m\u001b[38;5;124mdata/\u001b[39m\u001b[38;5;132;01m{\u001b[39;00mcongress_number\u001b[38;5;132;01m}\u001b[39;00m\u001b[38;5;132;01m{\u001b[39;00mbill_type\u001b[38;5;132;01m}\u001b[39;00m\u001b[38;5;132;01m{\u001b[39;00mbill_number\u001b[38;5;132;01m}\u001b[39;00m\u001b[38;5;132;01m{\u001b[39;00mbill_version\u001b[38;5;132;01m}\u001b[39;00m\u001b[38;5;124m.xml\u001b[39m\u001b[38;5;124m'\u001b[39m\n\u001b[0;32m---> 25\u001b[0m     \u001b[38;5;28;01mwith\u001b[39;00m \u001b[38;5;28;43mopen\u001b[39;49m\u001b[43m(\u001b[49m\u001b[43mfile_path\u001b[49m\u001b[43m,\u001b[49m\u001b[43m \u001b[49m\u001b[38;5;124;43m'\u001b[39;49m\u001b[38;5;124;43mr\u001b[39;49m\u001b[38;5;124;43m'\u001b[39;49m\u001b[43m)\u001b[49m \u001b[38;5;28;01mas\u001b[39;00m f:\n\u001b[1;32m     26\u001b[0m         \u001b[38;5;28;01mreturn\u001b[39;00m f\u001b[38;5;241m.\u001b[39mread()\n",
      "\u001b[0;31mFileNotFoundError\u001b[0m: [Errno 2] No such file or directory: 'data/118hr6181ih.xml'"
     ]
    }
   ],
   "source": [
    "xml_118_hr_6181_ih = Utils.get_core_bill_xml(118, 6181, 'hr', 'ih')\n",
    "sections_118_hr_6181_ih = Parse.get_all_sections(xml_118_hr_6181_ih)\n",
    "parsed_sections_118_hr_6181_ih = {}\n",
    "for section_number, section_xml in sections_118_hr_6181_ih.items():\n",
    "    parsed_sections_118_hr_6181_ih[section_number] = LegisParse.process_section(section_xml)\n",
    "\n",
    "for parsed_section in parsed_sections_118_hr_6181_ih.values():\n",
    "    print(parsed_section)"
   ]
  }
 ],
 "metadata": {
  "kernelspec": {
   "display_name": "venv",
   "language": "python",
   "name": "python3"
  },
  "language_info": {
   "codemirror_mode": {
    "name": "ipython",
    "version": 3
   },
   "file_extension": ".py",
   "mimetype": "text/x-python",
   "name": "python",
   "nbconvert_exporter": "python",
   "pygments_lexer": "ipython3",
   "version": "3.9.5"
  }
 },
 "nbformat": 4,
 "nbformat_minor": 2
}
