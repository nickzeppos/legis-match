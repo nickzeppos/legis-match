{
 "cells": [
  {
   "cell_type": "code",
   "execution_count": 2,
   "metadata": {},
   "outputs": [
    {
     "data": {
      "text/plain": [
       "<module 'utils' from '/home/nickzep/projects/legis-match/src/utils.py'>"
      ]
     },
     "execution_count": 2,
     "metadata": {},
     "output_type": "execute_result"
    }
   ],
   "source": [
    "# Imports\n",
    "from processing import parse_fn as Parse\n",
    "from processing import compare_fn as Compare\n",
    "from processing import legis_parse as LegisParse\n",
    "import utils as Utils\n",
    "import importlib\n",
    "importlib.reload(Compare)\n",
    "importlib.reload(LegisParse)\n",
    "importlib.reload(Parse)\n",
    "importlib.reload(Utils)\n",
    "\n",
    "# from processing import legis_index as LegisIndex\n",
    "# importlib.reload(LegisIndex)\n",
    "\n",
    "# import parse_fn as Parse\n",
    "# import compare_fn as Compare\n",
    "# import legis_parse as LegisParse\n",
    "# import legis_index as LegisIndex\n",
    "# import utils as Utils\n",
    "# import importlib\n",
    "# importlib.reload(Compare)\n",
    "# importlib.reload(LegisParse)\n",
    "# importlib.reload(LegisIndex)\n",
    "# importlib.reload(Parse)\n",
    "# importlib.reload(Utils)"
   ]
  },
  {
   "cell_type": "code",
   "execution_count": null,
   "metadata": {},
   "outputs": [],
   "source": [
    "xml_118_hr_6181_ih = Utils.get_core_bill_xml(118, 6181, 'hr', 'ih')\n",
    "sections_118_hr_6181_ih = Parse.get_all_sections(xml_118_hr_6181_ih)\n",
    "parsed_sections_118_hr_6181_ih = {}\n",
    "for section_number, section_xml in sections_118_hr_6181_ih.items():\n",
    "    parsed_sections_118_hr_6181_ih[section_number] = LegisParse.process_section(section_xml)\n",
    "\n",
    "for parsed_section in parsed_sections_118_hr_6181_ih.values():\n",
    "    print(parsed_section)\n"
   ]
  }
 ],
 "metadata": {
  "kernelspec": {
   "display_name": "venv",
   "language": "python",
   "name": "python3"
  },
  "language_info": {
   "codemirror_mode": {
    "name": "ipython",
    "version": 3
   },
   "file_extension": ".py",
   "mimetype": "text/x-python",
   "name": "python",
   "nbconvert_exporter": "python",
   "pygments_lexer": "ipython3",
   "version": "3.9.5"
  }
 },
 "nbformat": 4,
 "nbformat_minor": 2
}
